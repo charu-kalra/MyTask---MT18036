{
 "cells": [
  {
   "cell_type": "markdown",
   "metadata": {},
   "source": [
    "## Importing files"
   ]
  },
  {
   "cell_type": "code",
   "execution_count": 7,
   "metadata": {},
   "outputs": [],
   "source": [
    "import os\n",
    "import numpy as np\n",
    "import pandas as pd\n",
    "from six.moves import cPickle as pickle\n",
    "from sklearn.model_selection import train_test_split\n",
    "from sklearn.metrics import accuracy_score"
   ]
  },
  {
   "cell_type": "markdown",
   "metadata": {},
   "source": [
    "## Reading files"
   ]
  },
  {
   "cell_type": "code",
   "execution_count": 8,
   "metadata": {},
   "outputs": [],
   "source": [
    "def unpickle(file):\n",
    "    import pickle\n",
    "    with open(file, 'rb') as fo:\n",
    "        dictt = pickle.load(fo, encoding='bytes')\n",
    "#         print(dictt)\n",
    "    return dictt"
   ]
  },
  {
   "cell_type": "code",
   "execution_count": 11,
   "metadata": {},
   "outputs": [],
   "source": [
    "trainData= pd.DataFrame()\n",
    "label=pd.DataFrame()\n",
    "tr_image=\"C:/Users/Charu Kalra/Music/train_image.pkl\"\n",
    "tr_data=unpickle(tr_image)\n",
    "tr_data=pd.DataFrame(tr_data)\n",
    "tr_label=\"C:/Users/Charu Kalra/Music/train_label.pkl\"\n",
    "tr_labelD=unpickle(tr_label)\n",
    "tr_labelD=pd.DataFrame(tr_labelD)\n",
    "te_image=\"C:/Users/Charu Kalra/Music/test_image.pkl\"\n",
    "te_data=unpickle(te_image)\n",
    "te_data=pd.DataFrame(te_data)"
   ]
  },
  {
   "cell_type": "markdown",
   "metadata": {},
   "source": [
    "## Using Neural Network"
   ]
  },
  {
   "cell_type": "code",
   "execution_count": 24,
   "metadata": {},
   "outputs": [],
   "source": [
    "from sklearn.neural_network import MLPClassifier\n",
    "X_train, X_test, y_train, y_test = train_test_split(tr_data, tr_labelD, test_size=0.20, random_state=42)"
   ]
  },
  {
   "cell_type": "code",
   "execution_count": 25,
   "metadata": {},
   "outputs": [],
   "source": [
    "X_train=X_train.reset_index(drop=True)\n",
    "X_test=X_test.reset_index(drop=True)\n",
    "y_train=y_train.reset_index(drop=True)\n",
    "y_test=y_test.reset_index(drop=True)\n"
   ]
  },
  {
   "cell_type": "code",
   "execution_count": 35,
   "metadata": {},
   "outputs": [],
   "source": [
    "def accuracy(actual, pred):\n",
    "    a=accuracy_score(actual, pred)\n",
    "    return a"
   ]
  },
  {
   "cell_type": "code",
   "execution_count": 29,
   "metadata": {},
   "outputs": [
    {
     "name": "stderr",
     "output_type": "stream",
     "text": [
      "C:\\ProgramData\\Anaconda3\\lib\\site-packages\\sklearn\\utils\\validation.py:578: DataConversionWarning: A column-vector y was passed when a 1d array was expected. Please change the shape of y to (n_samples, ), for example using ravel().\n",
      "  y = column_or_1d(y, warn=True)\n"
     ]
    }
   ],
   "source": [
    "from sklearn.discriminant_analysis import LinearDiscriminantAnalysis as LDA\n",
    "lda=LDA(n_components=3)\n",
    "X_train=lda.fit_transform(X_train,y_train)\n",
    "X_test=lda.transform(X_test)\n",
    "te_data=lda.transform(te_data.values)"
   ]
  },
  {
   "cell_type": "code",
   "execution_count": 30,
   "metadata": {},
   "outputs": [
    {
     "name": "stderr",
     "output_type": "stream",
     "text": [
      "C:\\ProgramData\\Anaconda3\\lib\\site-packages\\sklearn\\neural_network\\multilayer_perceptron.py:912: DataConversionWarning: A column-vector y was passed when a 1d array was expected. Please change the shape of y to (n_samples, ), for example using ravel().\n",
      "  y = column_or_1d(y, warn=True)\n"
     ]
    },
    {
     "name": "stdout",
     "output_type": "stream",
     "text": [
      " Validation Accuracy is 0.78375\n"
     ]
    }
   ],
   "source": [
    "cnn = MLPClassifier(solver='lbfgs', alpha=1e-5,hidden_layer_sizes=(13, 5), random_state=1)\n",
    "# cnn = MLPClassifier(hidden_layer_sizes=(20,), random_state=1, max_iter=50,warm_start=True)\n",
    "cnn.fit(X_train, y_train)\n",
    "pred_label=cnn.predict(X_test)\n",
    "a=accuracy_score(y_test[0].values, pred_label)\n",
    "print(\" Validation Accuracy is\",a)"
   ]
  },
  {
   "cell_type": "code",
   "execution_count": 98,
   "metadata": {},
   "outputs": [],
   "source": [
    "predicted_test=cnn.predict(te_data)\n",
    "p=pd.DataFrame()\n",
    "p['image_index']=range(len(predicted_test))\n",
    "p['class']=predicted_test"
   ]
  },
  {
   "cell_type": "code",
   "execution_count": 103,
   "metadata": {},
   "outputs": [],
   "source": [
    "p.to_csv('charu.csv')"
   ]
  }
 ],
 "metadata": {
  "kernelspec": {
   "display_name": "Python 3",
   "language": "python",
   "name": "python3"
  },
  "language_info": {
   "codemirror_mode": {
    "name": "ipython",
    "version": 3
   },
   "file_extension": ".py",
   "mimetype": "text/x-python",
   "name": "python",
   "nbconvert_exporter": "python",
   "pygments_lexer": "ipython3",
   "version": "3.6.5"
  }
 },
 "nbformat": 4,
 "nbformat_minor": 2
}
